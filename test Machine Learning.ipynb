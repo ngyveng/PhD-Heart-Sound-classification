{
 "cells": [
  {
   "cell_type": "code",
   "execution_count": 1,
   "id": "e7d80290",
   "metadata": {},
   "outputs": [
    {
     "name": "stderr",
     "output_type": "stream",
     "text": [
      "C:\\Users\\Admin\\anaconda3\\envs\\GPU_PhD\\lib\\site-packages\\numpy\\_distributor_init.py:30: UserWarning: loaded more than 1 DLL from .libs:\n",
      "C:\\Users\\Admin\\anaconda3\\envs\\GPU_PhD\\lib\\site-packages\\numpy\\.libs\\libopenblas64__v0.3.21-gcc_10_3_0.dll\n",
      "C:\\Users\\Admin\\anaconda3\\envs\\GPU_PhD\\lib\\site-packages\\numpy\\.libs\\libopenblas64__v0.3.23-246-g3d31191b-gcc_10_3_0.dll\n",
      "  warnings.warn(\"loaded more than 1 DLL from .libs:\"\n"
     ]
    }
   ],
   "source": [
    "import os\n",
    "import numpy as np\n",
    "import librosa\n",
    "\n",
    "# Load the dataset\n",
    "data_path = \"Dataset\"  # Replace with the path to your dataset\n",
    "labels = [\"MR\", \"MS\", \"normal\"]\n",
    "X = []\n",
    "y = []\n",
    "\n",
    "for label in labels:\n",
    "    folder_path = os.path.join(data_path, label)\n",
    "    for file in os.listdir(folder_path):\n",
    "        if file.endswith(\".wav\"):\n",
    "            # Load the WAV file using librosa\n",
    "            file_path = os.path.join(folder_path, file)\n",
    "            y_data, sr = librosa.load(file_path, sr=None)\n",
    "            \n",
    "            # Extract MFCC features from the audio signal\n",
    "            mfccs = librosa.feature.mfcc(y=y_data, sr=sr, n_mfcc=13)\n",
    "            X.append(mfccs.T)\n",
    "            y.append(labels.index(label))\n",
    "\n",
    "# Determine the maximum sequence length\n",
    "max_length = max([len(features) for features in X])\n",
    "\n",
    "# Pad each sequence to the maximum length\n",
    "X_padded = []\n",
    "\n",
    "for features in X:\n",
    "    pad_width = max_length - len(features)\n",
    "    padded_features = np.pad(features, ((0, pad_width), (0, 0)), mode='constant')\n",
    "    X_padded.append(padded_features)\n",
    "\n",
    "# Convert the padded list to a numpy array\n",
    "X = np.array(X_padded)\n",
    "y = np.array(y)\n",
    "\n",
    "# Split the dataset into training and test sets\n",
    "from sklearn.model_selection import train_test_split\n",
    "X_train, X_test, y_train, y_test = train_test_split(X, y, test_size=0.2, random_state=42)"
   ]
  },
  {
   "cell_type": "code",
   "execution_count": 6,
   "id": "f397e208",
   "metadata": {},
   "outputs": [
    {
     "name": "stdout",
     "output_type": "stream",
     "text": [
      "Shapes:\n",
      "x_train: (384, 51, 13)\n",
      "y_train: (384,)\n",
      "x_test: (96, 51, 13)\n",
      "y_test: (96,)\n"
     ]
    }
   ],
   "source": [
    "# Print shapes for debugging\n",
    "print(\"Shapes:\")\n",
    "print(\"x_train:\", X_train.shape)\n",
    "print(\"y_train:\", y_train.shape)\n",
    "print(\"x_test:\", X_test.shape)\n",
    "print(\"y_test:\", y_test.shape)"
   ]
  },
  {
   "cell_type": "code",
   "execution_count": null,
   "id": "7e9529b2",
   "metadata": {},
   "outputs": [],
   "source": []
  },
  {
   "cell_type": "code",
   "execution_count": null,
   "id": "f13901f0",
   "metadata": {},
   "outputs": [],
   "source": []
  },
  {
   "cell_type": "code",
   "execution_count": null,
   "id": "eb837030",
   "metadata": {},
   "outputs": [],
   "source": []
  },
  {
   "cell_type": "code",
   "execution_count": null,
   "id": "a47a53d9",
   "metadata": {},
   "outputs": [],
   "source": []
  }
 ],
 "metadata": {
  "kernelspec": {
   "display_name": "Python 3 (ipykernel)",
   "language": "python",
   "name": "python3"
  },
  "language_info": {
   "codemirror_mode": {
    "name": "ipython",
    "version": 3
   },
   "file_extension": ".py",
   "mimetype": "text/x-python",
   "name": "python",
   "nbconvert_exporter": "python",
   "pygments_lexer": "ipython3",
   "version": "3.9.17"
  }
 },
 "nbformat": 4,
 "nbformat_minor": 5
}
